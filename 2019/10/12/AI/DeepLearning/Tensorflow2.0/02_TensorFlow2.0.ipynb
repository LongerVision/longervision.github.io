{
 "cells": [
  {
   "cell_type": "code",
   "execution_count": 2,
   "metadata": {},
   "outputs": [
    {
     "name": "stdout",
     "output_type": "stream",
     "text": [
      "2.0.0\n"
     ]
    }
   ],
   "source": [
    "# Import Tensorflow and check the version\n",
    "import tensorflow as tf\n",
    "print(tf.__version__)"
   ]
  },
  {
   "cell_type": "code",
   "execution_count": 4,
   "metadata": {},
   "outputs": [
    {
     "name": "stdout",
     "output_type": "stream",
     "text": [
      "tf.Tensor(b'Hello world!', shape=(), dtype=string)\n"
     ]
    }
   ],
   "source": [
    "a = tf.constant(\"Hello world!\")\n",
    "print(a)"
   ]
  },
  {
   "cell_type": "code",
   "execution_count": 6,
   "metadata": {},
   "outputs": [],
   "source": [
    "# Autograph and tf.function()\n",
    "@tf.function\n",
    "def f(x):\n",
    "    return tf.add(x, 1.)"
   ]
  },
  {
   "cell_type": "code",
   "execution_count": 9,
   "metadata": {},
   "outputs": [
    {
     "name": "stdout",
     "output_type": "stream",
     "text": [
      "WARNING:tensorflow:Entity <function f at 0x7ff0af3bd378> could not be transformed and will be executed as-is. Please report this to the AutoGraph team. When filing the bug, set the verbosity to 10 (on Linux, `export AUTOGRAPH_VERBOSITY=10`) and attach the full output. Cause: Bad argument number for Name: 3, expecting 4\n",
      "WARNING: Entity <function f at 0x7ff0af3bd378> could not be transformed and will be executed as-is. Please report this to the AutoGraph team. When filing the bug, set the verbosity to 10 (on Linux, `export AUTOGRAPH_VERBOSITY=10`) and attach the full output. Cause: Bad argument number for Name: 3, expecting 4\n",
      "tf.Tensor(2.0, shape=(), dtype=float32)\n",
      "tf.Tensor([2. 2.], shape=(2,), dtype=float32)\n",
      "tf.Tensor([[4.]], shape=(1, 1), dtype=float32)\n"
     ]
    }
   ],
   "source": [
    "scalar = tf.constant(1.0)\n",
    "vector = tf.constant([1.0, 1.0])\n",
    "matrix = tf.constant([[3.0]])\n",
    "\n",
    "print(f(scalar))\n",
    "print(f(vector))\n",
    "print(f(matrix))"
   ]
  },
  {
   "cell_type": "code",
   "execution_count": 10,
   "metadata": {},
   "outputs": [],
   "source": [
    "# Building a model\n",
    "n_input = 4\n",
    "n_output = 3\n",
    "n_hidden = 10\n",
    "\n",
    "# hyperparameter\n",
    "learning_rate = 0.01\n",
    "training_epochs = 2000\n",
    "display_steps = 200"
   ]
  },
  {
   "cell_type": "code",
   "execution_count": 11,
   "metadata": {},
   "outputs": [],
   "source": [
    "# Getting data\n",
    "from sklearn. datasets import load_iris\n",
    "from sklearn.model_selection import train_test_split\n",
    "from sklearn.preprocessing import OneHotEncoder\n",
    "\n",
    "iris_data = load_iris() # load the iris dataset\n",
    "\n",
    "x = iris_data.data\n",
    "y_ = iris_data.target.reshape(-1, 1) # Convert data to a single column"
   ]
  },
  {
   "cell_type": "code",
   "execution_count": 12,
   "metadata": {},
   "outputs": [
    {
     "name": "stderr",
     "output_type": "stream",
     "text": [
      "/home/longervision/.local/lib/python3.7/site-packages/sklearn/preprocessing/_encoders.py:415: FutureWarning: The handling of integer data will change in version 0.22. Currently, the categories are determined based on the range [0, max(values)], while in the future they will be determined based on the unique values.\n",
      "If you want the future behaviour and silence this warning, you can specify \"categories='auto'\".\n",
      "In case you used a LabelEncoder before this OneHotEncoder to convert the categories to integers, then you can now use the OneHotEncoder directly.\n",
      "  warnings.warn(msg, FutureWarning)\n"
     ]
    }
   ],
   "source": [
    "# One Hot encode the class labels\n",
    "encoder = OneHotEncoder(sparse = False)\n",
    "y = encoder.fit_transform(y_)\n",
    "\n",
    "train_x, test_x, train_y, test_y = train_test_split(x, y, test_size=0.20)"
   ]
  },
  {
   "cell_type": "code",
   "execution_count": 13,
   "metadata": {},
   "outputs": [],
   "source": [
    "# Build the model\n",
    "model = tf.keras.Sequential()\n",
    "\n",
    "model.add(tf.keras.layers.Dense(n_hidden, input_shape=(n_input,), activation='relu', name='fc1'))\n",
    "model.add(tf.keras.layers.Dense(n_output, activation='softmax', name='output'))"
   ]
  },
  {
   "cell_type": "code",
   "execution_count": 15,
   "metadata": {},
   "outputs": [
    {
     "name": "stdout",
     "output_type": "stream",
     "text": [
      "Neural Network Model Summary: \n",
      "Model: \"sequential\"\n",
      "_________________________________________________________________\n",
      "Layer (type)                 Output Shape              Param #   \n",
      "=================================================================\n",
      "fc1 (Dense)                  (None, 10)                50        \n",
      "_________________________________________________________________\n",
      "output (Dense)               (None, 3)                 33        \n",
      "=================================================================\n",
      "Total params: 83\n",
      "Trainable params: 83\n",
      "Non-trainable params: 0\n",
      "_________________________________________________________________\n",
      "None\n"
     ]
    }
   ],
   "source": [
    "# Adam optimizer with learning rate of 0.001\n",
    "optimizer = tf.keras.optimizers.Adam(lr=0.001)\n",
    "model.compile(optimizer, loss='categorical_crossentropy', metrics=['accuracy'])\n",
    "\n",
    "print('Neural Network Model Summary: ')\n",
    "print(model.summary())"
   ]
  },
  {
   "cell_type": "code",
   "execution_count": 18,
   "metadata": {},
   "outputs": [
    {
     "name": "stdout",
     "output_type": "stream",
     "text": [
      "Train on 120 samples\n",
      "Epoch 1/200\n",
      "120/120 - 0s - loss: 0.0896 - accuracy: 0.9750\n",
      "Epoch 2/200\n",
      "120/120 - 0s - loss: 0.0931 - accuracy: 0.9667\n",
      "Epoch 3/200\n",
      "120/120 - 0s - loss: 0.0909 - accuracy: 0.9750\n",
      "Epoch 4/200\n",
      "120/120 - 0s - loss: 0.0906 - accuracy: 0.9750\n",
      "Epoch 5/200\n",
      "120/120 - 0s - loss: 0.0907 - accuracy: 0.9750\n",
      "Epoch 6/200\n",
      "120/120 - 0s - loss: 0.0919 - accuracy: 0.9667\n",
      "Epoch 7/200\n",
      "120/120 - 0s - loss: 0.0920 - accuracy: 0.9750\n",
      "Epoch 8/200\n",
      "120/120 - 0s - loss: 0.0946 - accuracy: 0.9667\n",
      "Epoch 9/200\n",
      "120/120 - 0s - loss: 0.0915 - accuracy: 0.9750\n",
      "Epoch 10/200\n",
      "120/120 - 0s - loss: 0.0892 - accuracy: 0.9750\n",
      "Epoch 11/200\n",
      "120/120 - 0s - loss: 0.0919 - accuracy: 0.9750\n",
      "Epoch 12/200\n",
      "120/120 - 0s - loss: 0.0895 - accuracy: 0.9750\n",
      "Epoch 13/200\n",
      "120/120 - 0s - loss: 0.0897 - accuracy: 0.9750\n",
      "Epoch 14/200\n",
      "120/120 - 0s - loss: 0.0903 - accuracy: 0.9667\n",
      "Epoch 15/200\n",
      "120/120 - 0s - loss: 0.0897 - accuracy: 0.9750\n",
      "Epoch 16/200\n",
      "120/120 - 0s - loss: 0.0915 - accuracy: 0.9750\n",
      "Epoch 17/200\n",
      "120/120 - 0s - loss: 0.0906 - accuracy: 0.9667\n",
      "Epoch 18/200\n",
      "120/120 - 0s - loss: 0.0893 - accuracy: 0.9667\n",
      "Epoch 19/200\n",
      "120/120 - 0s - loss: 0.0911 - accuracy: 0.9583\n",
      "Epoch 20/200\n",
      "120/120 - 0s - loss: 0.0867 - accuracy: 0.9667\n",
      "Epoch 21/200\n",
      "120/120 - 0s - loss: 0.0887 - accuracy: 0.9667\n",
      "Epoch 22/200\n",
      "120/120 - 0s - loss: 0.0901 - accuracy: 0.9750\n",
      "Epoch 23/200\n",
      "120/120 - 0s - loss: 0.0877 - accuracy: 0.9667\n",
      "Epoch 24/200\n",
      "120/120 - 0s - loss: 0.0882 - accuracy: 0.9667\n",
      "Epoch 25/200\n",
      "120/120 - 0s - loss: 0.0873 - accuracy: 0.9750\n",
      "Epoch 26/200\n",
      "120/120 - 0s - loss: 0.0892 - accuracy: 0.9667\n",
      "Epoch 27/200\n",
      "120/120 - 0s - loss: 0.0893 - accuracy: 0.9750\n",
      "Epoch 28/200\n",
      "120/120 - 0s - loss: 0.0877 - accuracy: 0.9667\n",
      "Epoch 29/200\n",
      "120/120 - 0s - loss: 0.0870 - accuracy: 0.9667\n",
      "Epoch 30/200\n",
      "120/120 - 0s - loss: 0.0891 - accuracy: 0.9667\n",
      "Epoch 31/200\n",
      "120/120 - 0s - loss: 0.0869 - accuracy: 0.9750\n",
      "Epoch 32/200\n",
      "120/120 - 0s - loss: 0.0883 - accuracy: 0.9667\n",
      "Epoch 33/200\n",
      "120/120 - 0s - loss: 0.0854 - accuracy: 0.9750\n",
      "Epoch 34/200\n",
      "120/120 - 0s - loss: 0.0861 - accuracy: 0.9750\n",
      "Epoch 35/200\n",
      "120/120 - 0s - loss: 0.0880 - accuracy: 0.9667\n",
      "Epoch 36/200\n",
      "120/120 - 0s - loss: 0.0854 - accuracy: 0.9667\n",
      "Epoch 37/200\n",
      "120/120 - 0s - loss: 0.0851 - accuracy: 0.9750\n",
      "Epoch 38/200\n",
      "120/120 - 0s - loss: 0.0871 - accuracy: 0.9667\n",
      "Epoch 39/200\n",
      "120/120 - 0s - loss: 0.0907 - accuracy: 0.9583\n",
      "Epoch 40/200\n",
      "120/120 - 0s - loss: 0.0865 - accuracy: 0.9667\n",
      "Epoch 41/200\n",
      "120/120 - 0s - loss: 0.0923 - accuracy: 0.9667\n",
      "Epoch 42/200\n",
      "120/120 - 0s - loss: 0.0864 - accuracy: 0.9667\n",
      "Epoch 43/200\n",
      "120/120 - 0s - loss: 0.0850 - accuracy: 0.9750\n",
      "Epoch 44/200\n",
      "120/120 - 0s - loss: 0.0869 - accuracy: 0.9667\n",
      "Epoch 45/200\n",
      "120/120 - 0s - loss: 0.0858 - accuracy: 0.9667\n",
      "Epoch 46/200\n",
      "120/120 - 0s - loss: 0.0849 - accuracy: 0.9583\n",
      "Epoch 47/200\n",
      "120/120 - 0s - loss: 0.0876 - accuracy: 0.9750\n",
      "Epoch 48/200\n",
      "120/120 - 0s - loss: 0.0891 - accuracy: 0.9667\n",
      "Epoch 49/200\n",
      "120/120 - 0s - loss: 0.0847 - accuracy: 0.9667\n",
      "Epoch 50/200\n",
      "120/120 - 0s - loss: 0.0873 - accuracy: 0.9667\n",
      "Epoch 51/200\n",
      "120/120 - 0s - loss: 0.0847 - accuracy: 0.9750\n",
      "Epoch 52/200\n",
      "120/120 - 0s - loss: 0.0841 - accuracy: 0.9750\n",
      "Epoch 53/200\n",
      "120/120 - 0s - loss: 0.0849 - accuracy: 0.9750\n",
      "Epoch 54/200\n",
      "120/120 - 0s - loss: 0.0832 - accuracy: 0.9750\n",
      "Epoch 55/200\n",
      "120/120 - 0s - loss: 0.0831 - accuracy: 0.9750\n",
      "Epoch 56/200\n",
      "120/120 - 0s - loss: 0.0842 - accuracy: 0.9750\n",
      "Epoch 57/200\n",
      "120/120 - 0s - loss: 0.0832 - accuracy: 0.9750\n",
      "Epoch 58/200\n",
      "120/120 - 0s - loss: 0.0837 - accuracy: 0.9750\n",
      "Epoch 59/200\n",
      "120/120 - 0s - loss: 0.0837 - accuracy: 0.9667\n",
      "Epoch 60/200\n",
      "120/120 - 0s - loss: 0.0830 - accuracy: 0.9750\n",
      "Epoch 61/200\n",
      "120/120 - 0s - loss: 0.0825 - accuracy: 0.9667\n",
      "Epoch 62/200\n",
      "120/120 - 0s - loss: 0.0824 - accuracy: 0.9750\n",
      "Epoch 63/200\n",
      "120/120 - 0s - loss: 0.0821 - accuracy: 0.9750\n",
      "Epoch 64/200\n",
      "120/120 - 0s - loss: 0.0818 - accuracy: 0.9750\n",
      "Epoch 65/200\n",
      "120/120 - 0s - loss: 0.0838 - accuracy: 0.9667\n",
      "Epoch 66/200\n",
      "120/120 - 0s - loss: 0.0850 - accuracy: 0.9750\n",
      "Epoch 67/200\n",
      "120/120 - 0s - loss: 0.0845 - accuracy: 0.9667\n",
      "Epoch 68/200\n",
      "120/120 - 0s - loss: 0.0833 - accuracy: 0.9667\n",
      "Epoch 69/200\n",
      "120/120 - 0s - loss: 0.0832 - accuracy: 0.9750\n",
      "Epoch 70/200\n",
      "120/120 - 0s - loss: 0.0849 - accuracy: 0.9667\n",
      "Epoch 71/200\n",
      "120/120 - 0s - loss: 0.0837 - accuracy: 0.9667\n",
      "Epoch 72/200\n",
      "120/120 - 0s - loss: 0.0809 - accuracy: 0.9750\n",
      "Epoch 73/200\n",
      "120/120 - 0s - loss: 0.0813 - accuracy: 0.9750\n",
      "Epoch 74/200\n",
      "120/120 - 0s - loss: 0.0802 - accuracy: 0.9750\n",
      "Epoch 75/200\n",
      "120/120 - 0s - loss: 0.0821 - accuracy: 0.9667\n",
      "Epoch 76/200\n",
      "120/120 - 0s - loss: 0.0815 - accuracy: 0.9667\n",
      "Epoch 77/200\n",
      "120/120 - 0s - loss: 0.0806 - accuracy: 0.9750\n",
      "Epoch 78/200\n",
      "120/120 - 0s - loss: 0.0853 - accuracy: 0.9667\n",
      "Epoch 79/200\n",
      "120/120 - 0s - loss: 0.0803 - accuracy: 0.9750\n",
      "Epoch 80/200\n",
      "120/120 - 0s - loss: 0.0800 - accuracy: 0.9750\n",
      "Epoch 81/200\n",
      "120/120 - 0s - loss: 0.0815 - accuracy: 0.9667\n",
      "Epoch 82/200\n",
      "120/120 - 0s - loss: 0.0840 - accuracy: 0.9667\n",
      "Epoch 83/200\n",
      "120/120 - 0s - loss: 0.0867 - accuracy: 0.9667\n",
      "Epoch 84/200\n",
      "120/120 - 0s - loss: 0.0840 - accuracy: 0.9667\n",
      "Epoch 85/200\n",
      "120/120 - 0s - loss: 0.0805 - accuracy: 0.9667\n",
      "Epoch 86/200\n",
      "120/120 - 0s - loss: 0.0842 - accuracy: 0.9667\n",
      "Epoch 87/200\n",
      "120/120 - 0s - loss: 0.0820 - accuracy: 0.9750\n",
      "Epoch 88/200\n",
      "120/120 - 0s - loss: 0.0800 - accuracy: 0.9667\n",
      "Epoch 89/200\n",
      "120/120 - 0s - loss: 0.0852 - accuracy: 0.9667\n",
      "Epoch 90/200\n",
      "120/120 - 0s - loss: 0.0854 - accuracy: 0.9750\n",
      "Epoch 91/200\n",
      "120/120 - 0s - loss: 0.0789 - accuracy: 0.9667\n",
      "Epoch 92/200\n",
      "120/120 - 0s - loss: 0.0817 - accuracy: 0.9667\n",
      "Epoch 93/200\n",
      "120/120 - 0s - loss: 0.0810 - accuracy: 0.9667\n",
      "Epoch 94/200\n",
      "120/120 - 0s - loss: 0.0826 - accuracy: 0.9750\n",
      "Epoch 95/200\n",
      "120/120 - 0s - loss: 0.0798 - accuracy: 0.9833\n",
      "Epoch 96/200\n",
      "120/120 - 0s - loss: 0.0839 - accuracy: 0.9750\n",
      "Epoch 97/200\n",
      "120/120 - 0s - loss: 0.0784 - accuracy: 0.9750\n",
      "Epoch 98/200\n",
      "120/120 - 0s - loss: 0.0783 - accuracy: 0.9750\n",
      "Epoch 99/200\n",
      "120/120 - 0s - loss: 0.0794 - accuracy: 0.9750\n",
      "Epoch 100/200\n",
      "120/120 - 0s - loss: 0.0831 - accuracy: 0.9750\n",
      "Epoch 101/200\n",
      "120/120 - 0s - loss: 0.0791 - accuracy: 0.9750\n",
      "Epoch 102/200\n",
      "120/120 - 0s - loss: 0.0783 - accuracy: 0.9667\n",
      "Epoch 103/200\n",
      "120/120 - 0s - loss: 0.0793 - accuracy: 0.9667\n",
      "Epoch 104/200\n",
      "120/120 - 0s - loss: 0.0798 - accuracy: 0.9750\n",
      "Epoch 105/200\n",
      "120/120 - 0s - loss: 0.0777 - accuracy: 0.9750\n",
      "Epoch 106/200\n",
      "120/120 - 0s - loss: 0.0808 - accuracy: 0.9667\n",
      "Epoch 107/200\n",
      "120/120 - 0s - loss: 0.0857 - accuracy: 0.9667\n",
      "Epoch 108/200\n",
      "120/120 - 0s - loss: 0.0822 - accuracy: 0.9667\n",
      "Epoch 109/200\n",
      "120/120 - 0s - loss: 0.0796 - accuracy: 0.9750\n",
      "Epoch 110/200\n",
      "120/120 - 0s - loss: 0.0771 - accuracy: 0.9750\n",
      "Epoch 111/200\n",
      "120/120 - 0s - loss: 0.0783 - accuracy: 0.9667\n",
      "Epoch 112/200\n",
      "120/120 - 0s - loss: 0.0770 - accuracy: 0.9750\n",
      "Epoch 113/200\n",
      "120/120 - 0s - loss: 0.0811 - accuracy: 0.9667\n",
      "Epoch 114/200\n",
      "120/120 - 0s - loss: 0.0906 - accuracy: 0.9667\n",
      "Epoch 115/200\n",
      "120/120 - 0s - loss: 0.0793 - accuracy: 0.9750\n",
      "Epoch 116/200\n",
      "120/120 - 0s - loss: 0.0791 - accuracy: 0.9667\n",
      "Epoch 117/200\n",
      "120/120 - 0s - loss: 0.0789 - accuracy: 0.9667\n",
      "Epoch 118/200\n",
      "120/120 - 0s - loss: 0.0778 - accuracy: 0.9750\n",
      "Epoch 119/200\n",
      "120/120 - 0s - loss: 0.0776 - accuracy: 0.9750\n",
      "Epoch 120/200\n",
      "120/120 - 0s - loss: 0.0781 - accuracy: 0.9667\n",
      "Epoch 121/200\n",
      "120/120 - 0s - loss: 0.0791 - accuracy: 0.9667\n",
      "Epoch 122/200\n",
      "120/120 - 0s - loss: 0.0834 - accuracy: 0.9750\n",
      "Epoch 123/200\n",
      "120/120 - 0s - loss: 0.0770 - accuracy: 0.9667\n",
      "Epoch 124/200\n",
      "120/120 - 0s - loss: 0.0795 - accuracy: 0.9667\n",
      "Epoch 125/200\n",
      "120/120 - 0s - loss: 0.0779 - accuracy: 0.9750\n",
      "Epoch 126/200\n",
      "120/120 - 0s - loss: 0.0773 - accuracy: 0.9750\n",
      "Epoch 127/200\n",
      "120/120 - 0s - loss: 0.0766 - accuracy: 0.9750\n",
      "Epoch 128/200\n",
      "120/120 - 0s - loss: 0.0788 - accuracy: 0.9667\n",
      "Epoch 129/200\n",
      "120/120 - 0s - loss: 0.0807 - accuracy: 0.9750\n",
      "Epoch 130/200\n",
      "120/120 - 0s - loss: 0.0850 - accuracy: 0.9583\n",
      "Epoch 131/200\n",
      "120/120 - 0s - loss: 0.0794 - accuracy: 0.9667\n",
      "Epoch 132/200\n",
      "120/120 - 0s - loss: 0.0776 - accuracy: 0.9667\n",
      "Epoch 133/200\n",
      "120/120 - 0s - loss: 0.0810 - accuracy: 0.9667\n",
      "Epoch 134/200\n",
      "120/120 - 0s - loss: 0.0837 - accuracy: 0.9667\n",
      "Epoch 135/200\n",
      "120/120 - 0s - loss: 0.0786 - accuracy: 0.9667\n",
      "Epoch 136/200\n",
      "120/120 - 0s - loss: 0.0770 - accuracy: 0.9667\n"
     ]
    },
    {
     "name": "stdout",
     "output_type": "stream",
     "text": [
      "Epoch 137/200\n",
      "120/120 - 0s - loss: 0.0751 - accuracy: 0.9750\n",
      "Epoch 138/200\n",
      "120/120 - 0s - loss: 0.0758 - accuracy: 0.9750\n",
      "Epoch 139/200\n",
      "120/120 - 0s - loss: 0.0757 - accuracy: 0.9750\n",
      "Epoch 140/200\n",
      "120/120 - 0s - loss: 0.0756 - accuracy: 0.9750\n",
      "Epoch 141/200\n",
      "120/120 - 0s - loss: 0.0752 - accuracy: 0.9750\n",
      "Epoch 142/200\n",
      "120/120 - 0s - loss: 0.0814 - accuracy: 0.9667\n",
      "Epoch 143/200\n",
      "120/120 - 0s - loss: 0.0759 - accuracy: 0.9750\n",
      "Epoch 144/200\n",
      "120/120 - 0s - loss: 0.0761 - accuracy: 0.9750\n",
      "Epoch 145/200\n",
      "120/120 - 0s - loss: 0.0767 - accuracy: 0.9750\n",
      "Epoch 146/200\n",
      "120/120 - 0s - loss: 0.0765 - accuracy: 0.9583\n",
      "Epoch 147/200\n",
      "120/120 - 0s - loss: 0.0750 - accuracy: 0.9667\n",
      "Epoch 148/200\n",
      "120/120 - 0s - loss: 0.0777 - accuracy: 0.9833\n",
      "Epoch 149/200\n",
      "120/120 - 0s - loss: 0.0751 - accuracy: 0.9750\n",
      "Epoch 150/200\n",
      "120/120 - 0s - loss: 0.0767 - accuracy: 0.9667\n",
      "Epoch 151/200\n",
      "120/120 - 0s - loss: 0.0752 - accuracy: 0.9750\n",
      "Epoch 152/200\n",
      "120/120 - 0s - loss: 0.0755 - accuracy: 0.9667\n",
      "Epoch 153/200\n",
      "120/120 - 0s - loss: 0.0793 - accuracy: 0.9667\n",
      "Epoch 154/200\n",
      "120/120 - 0s - loss: 0.0737 - accuracy: 0.9750\n",
      "Epoch 155/200\n",
      "120/120 - 0s - loss: 0.0769 - accuracy: 0.9583\n",
      "Epoch 156/200\n",
      "120/120 - 0s - loss: 0.0744 - accuracy: 0.9667\n",
      "Epoch 157/200\n",
      "120/120 - 0s - loss: 0.0805 - accuracy: 0.9750\n",
      "Epoch 158/200\n",
      "120/120 - 0s - loss: 0.0761 - accuracy: 0.9667\n",
      "Epoch 159/200\n",
      "120/120 - 0s - loss: 0.0742 - accuracy: 0.9667\n",
      "Epoch 160/200\n",
      "120/120 - 0s - loss: 0.0750 - accuracy: 0.9750\n",
      "Epoch 161/200\n",
      "120/120 - 0s - loss: 0.0794 - accuracy: 0.9750\n",
      "Epoch 162/200\n",
      "120/120 - 0s - loss: 0.0737 - accuracy: 0.9750\n",
      "Epoch 163/200\n",
      "120/120 - 0s - loss: 0.0776 - accuracy: 0.9667\n",
      "Epoch 164/200\n",
      "120/120 - 0s - loss: 0.0767 - accuracy: 0.9750\n",
      "Epoch 165/200\n",
      "120/120 - 0s - loss: 0.0757 - accuracy: 0.9750\n",
      "Epoch 166/200\n",
      "120/120 - 0s - loss: 0.0741 - accuracy: 0.9667\n",
      "Epoch 167/200\n",
      "120/120 - 0s - loss: 0.0767 - accuracy: 0.9750\n",
      "Epoch 168/200\n",
      "120/120 - 0s - loss: 0.0755 - accuracy: 0.9667\n",
      "Epoch 169/200\n",
      "120/120 - 0s - loss: 0.0766 - accuracy: 0.9750\n",
      "Epoch 170/200\n",
      "120/120 - 0s - loss: 0.0751 - accuracy: 0.9750\n",
      "Epoch 171/200\n",
      "120/120 - 0s - loss: 0.0744 - accuracy: 0.9750\n",
      "Epoch 172/200\n",
      "120/120 - 0s - loss: 0.0759 - accuracy: 0.9750\n",
      "Epoch 173/200\n",
      "120/120 - 0s - loss: 0.0777 - accuracy: 0.9667\n",
      "Epoch 174/200\n",
      "120/120 - 0s - loss: 0.0781 - accuracy: 0.9750\n",
      "Epoch 175/200\n",
      "120/120 - 0s - loss: 0.0742 - accuracy: 0.9667\n",
      "Epoch 176/200\n",
      "120/120 - 0s - loss: 0.0775 - accuracy: 0.9750\n",
      "Epoch 177/200\n",
      "120/120 - 0s - loss: 0.0731 - accuracy: 0.9750\n",
      "Epoch 178/200\n",
      "120/120 - 0s - loss: 0.0789 - accuracy: 0.9750\n",
      "Epoch 179/200\n",
      "120/120 - 0s - loss: 0.0758 - accuracy: 0.9667\n",
      "Epoch 180/200\n",
      "120/120 - 0s - loss: 0.0742 - accuracy: 0.9750\n",
      "Epoch 181/200\n",
      "120/120 - 0s - loss: 0.0724 - accuracy: 0.9750\n",
      "Epoch 182/200\n",
      "120/120 - 0s - loss: 0.0759 - accuracy: 0.9667\n",
      "Epoch 183/200\n",
      "120/120 - 0s - loss: 0.0774 - accuracy: 0.9667\n",
      "Epoch 184/200\n",
      "120/120 - 0s - loss: 0.0745 - accuracy: 0.9667\n",
      "Epoch 185/200\n",
      "120/120 - 0s - loss: 0.0716 - accuracy: 0.9750\n",
      "Epoch 186/200\n",
      "120/120 - 0s - loss: 0.0743 - accuracy: 0.9750\n",
      "Epoch 187/200\n",
      "120/120 - 0s - loss: 0.0795 - accuracy: 0.9667\n",
      "Epoch 188/200\n",
      "120/120 - 0s - loss: 0.0736 - accuracy: 0.9667\n",
      "Epoch 189/200\n",
      "120/120 - 0s - loss: 0.0750 - accuracy: 0.9750\n",
      "Epoch 190/200\n",
      "120/120 - 0s - loss: 0.0699 - accuracy: 0.9750\n",
      "Epoch 191/200\n",
      "120/120 - 0s - loss: 0.0760 - accuracy: 0.9667\n",
      "Epoch 192/200\n",
      "120/120 - 0s - loss: 0.0720 - accuracy: 0.9750\n",
      "Epoch 193/200\n",
      "120/120 - 0s - loss: 0.0745 - accuracy: 0.9750\n",
      "Epoch 194/200\n",
      "120/120 - 0s - loss: 0.0739 - accuracy: 0.9750\n",
      "Epoch 195/200\n",
      "120/120 - 0s - loss: 0.0727 - accuracy: 0.9750\n",
      "Epoch 196/200\n",
      "120/120 - 0s - loss: 0.0797 - accuracy: 0.9667\n",
      "Epoch 197/200\n",
      "120/120 - 0s - loss: 0.0743 - accuracy: 0.9750\n",
      "Epoch 198/200\n",
      "120/120 - 0s - loss: 0.0723 - accuracy: 0.9750\n",
      "Epoch 199/200\n",
      "120/120 - 0s - loss: 0.0755 - accuracy: 0.9667\n",
      "Epoch 200/200\n",
      "120/120 - 0s - loss: 0.0732 - accuracy: 0.9667\n",
      "30/1 [====================================================================================================================================================================================================================================================================================================================================================================================================================================================================================================================================================================================================================================================================================================================================================================================================================================================================================================================================] - 0s 58us/sample - loss: 0.0132 - accuracy: 1.0000\n",
      "Final test set loss: 0.013188\n",
      "Final test set accuracy: 1.000000\n"
     ]
    }
   ],
   "source": [
    "# Train the model\n",
    "model.fit(train_x, train_y, verbose=2, batch_size=5, epochs=200)\n",
    "\n",
    "# Test on unseen data\n",
    "results = model.evaluate(test_x, test_y)\n",
    "\n",
    "print('Final test set loss: {:4f}'.format(results[0]))\n",
    "print('Final test set accuracy: {:4f}'.format(results[1]))"
   ]
  },
  {
   "cell_type": "code",
   "execution_count": 19,
   "metadata": {},
   "outputs": [
    {
     "data": {
      "text/plain": [
       "['abstract_reasoning',\n",
       " 'aflw2k3d',\n",
       " 'amazon_us_reviews',\n",
       " 'bair_robot_pushing_small',\n",
       " 'bigearthnet',\n",
       " 'binarized_mnist',\n",
       " 'binary_alpha_digits',\n",
       " 'caltech101',\n",
       " 'caltech_birds2010',\n",
       " 'caltech_birds2011',\n",
       " 'cats_vs_dogs',\n",
       " 'celeb_a',\n",
       " 'celeb_a_hq',\n",
       " 'chexpert',\n",
       " 'cifar10',\n",
       " 'cifar100',\n",
       " 'cifar10_corrupted',\n",
       " 'clevr',\n",
       " 'cnn_dailymail',\n",
       " 'coco',\n",
       " 'coco2014',\n",
       " 'coil100',\n",
       " 'colorectal_histology',\n",
       " 'colorectal_histology_large',\n",
       " 'curated_breast_imaging_ddsm',\n",
       " 'cycle_gan',\n",
       " 'deep_weeds',\n",
       " 'definite_pronoun_resolution',\n",
       " 'diabetic_retinopathy_detection',\n",
       " 'downsampled_imagenet',\n",
       " 'dsprites',\n",
       " 'dtd',\n",
       " 'dummy_dataset_shared_generator',\n",
       " 'dummy_mnist',\n",
       " 'emnist',\n",
       " 'eurosat',\n",
       " 'fashion_mnist',\n",
       " 'flores',\n",
       " 'food101',\n",
       " 'gap',\n",
       " 'glue',\n",
       " 'groove',\n",
       " 'higgs',\n",
       " 'horses_or_humans',\n",
       " 'image_label_folder',\n",
       " 'imagenet2012',\n",
       " 'imagenet2012_corrupted',\n",
       " 'imdb_reviews',\n",
       " 'iris',\n",
       " 'kitti',\n",
       " 'kmnist',\n",
       " 'lfw',\n",
       " 'lm1b',\n",
       " 'lsun',\n",
       " 'mnist',\n",
       " 'mnist_corrupted',\n",
       " 'moving_mnist',\n",
       " 'multi_nli',\n",
       " 'nsynth',\n",
       " 'omniglot',\n",
       " 'open_images_v4',\n",
       " 'oxford_flowers102',\n",
       " 'oxford_iiit_pet',\n",
       " 'para_crawl',\n",
       " 'patch_camelyon',\n",
       " 'pet_finder',\n",
       " 'quickdraw_bitmap',\n",
       " 'resisc45',\n",
       " 'rock_paper_scissors',\n",
       " 'rock_you',\n",
       " 'scene_parse150',\n",
       " 'shapes3d',\n",
       " 'smallnorb',\n",
       " 'snli',\n",
       " 'so2sat',\n",
       " 'squad',\n",
       " 'stanford_dogs',\n",
       " 'stanford_online_products',\n",
       " 'starcraft_video',\n",
       " 'sun397',\n",
       " 'super_glue',\n",
       " 'svhn_cropped',\n",
       " 'ted_hrlr_translate',\n",
       " 'ted_multi_translate',\n",
       " 'tf_flowers',\n",
       " 'titanic',\n",
       " 'trivia_qa',\n",
       " 'uc_merced',\n",
       " 'ucf101',\n",
       " 'visual_domain_decathlon',\n",
       " 'voc2007',\n",
       " 'wikipedia',\n",
       " 'wmt14_translate',\n",
       " 'wmt15_translate',\n",
       " 'wmt16_translate',\n",
       " 'wmt17_translate',\n",
       " 'wmt18_translate',\n",
       " 'wmt19_translate',\n",
       " 'wmt_t2t_translate',\n",
       " 'wmt_translate',\n",
       " 'xnli']"
      ]
     },
     "execution_count": 19,
     "metadata": {},
     "output_type": "execute_result"
    }
   ],
   "source": [
    "import tensorflow_datasets as tfds\n",
    "tfds.list_builders()"
   ]
  },
  {
   "cell_type": "code",
   "execution_count": 20,
   "metadata": {},
   "outputs": [
    {
     "name": "stdout",
     "output_type": "stream",
     "text": [
      "\u001b[1mDownloading and preparing dataset iris (4.44 KiB) to /home/longervision/tensorflow_datasets/iris/1.0.0...\u001b[0m\n"
     ]
    },
    {
     "data": {
      "application/vnd.jupyter.widget-view+json": {
       "model_id": "4e36323d34894b38a9bff8525354bfa7",
       "version_major": 2,
       "version_minor": 0
      },
      "text/plain": [
       "HBox(children=(IntProgress(value=1, bar_style='info', description='Dl Completed...', max=1, style=ProgressStyl…"
      ]
     },
     "metadata": {},
     "output_type": "display_data"
    },
    {
     "data": {
      "application/vnd.jupyter.widget-view+json": {
       "model_id": "ba3fa5f0c20d41c386ef388600ddf19a",
       "version_major": 2,
       "version_minor": 0
      },
      "text/plain": [
       "HBox(children=(IntProgress(value=1, bar_style='info', description='Dl Size...', max=1, style=ProgressStyle(des…"
      ]
     },
     "metadata": {},
     "output_type": "display_data"
    },
    {
     "name": "stdout",
     "output_type": "stream",
     "text": [
      "\n",
      "\n",
      "\n",
      "\n"
     ]
    },
    {
     "name": "stderr",
     "output_type": "stream",
     "text": [
      "/home/longervision/.local/lib/python3.7/site-packages/urllib3/connectionpool.py:1004: InsecureRequestWarning: Unverified HTTPS request is being made. Adding certificate verification is strongly advised. See: https://urllib3.readthedocs.io/en/latest/advanced-usage.html#ssl-warnings\n",
      "  InsecureRequestWarning,\n"
     ]
    },
    {
     "data": {
      "application/vnd.jupyter.widget-view+json": {
       "model_id": "f0544da74a964b2786edf9fa330bae21",
       "version_major": 2,
       "version_minor": 0
      },
      "text/plain": [
       "HBox(children=(IntProgress(value=1, bar_style='info', max=1), HTML(value='')))"
      ]
     },
     "metadata": {},
     "output_type": "display_data"
    },
    {
     "name": "stdout",
     "output_type": "stream",
     "text": [
      "\r"
     ]
    },
    {
     "data": {
      "application/vnd.jupyter.widget-view+json": {
       "model_id": "c6354878a25d40d9a7e0bdcc0e1fd7b7",
       "version_major": 2,
       "version_minor": 0
      },
      "text/plain": [
       "HBox(children=(IntProgress(value=0, description='Shuffling...', max=1, style=ProgressStyle(description_width='…"
      ]
     },
     "metadata": {},
     "output_type": "display_data"
    },
    {
     "name": "stdout",
     "output_type": "stream",
     "text": [
      "WARNING:tensorflow:From /home/longervision/.local/lib/python3.7/site-packages/tensorflow_datasets/core/file_format_adapter.py:209: tf_record_iterator (from tensorflow.python.lib.io.tf_record) is deprecated and will be removed in a future version.\n",
      "Instructions for updating:\n",
      "Use eager execution and: \n",
      "`tf.data.TFRecordDataset(path)`\n"
     ]
    },
    {
     "name": "stderr",
     "output_type": "stream",
     "text": [
      "WARNING:tensorflow:From /home/longervision/.local/lib/python3.7/site-packages/tensorflow_datasets/core/file_format_adapter.py:209: tf_record_iterator (from tensorflow.python.lib.io.tf_record) is deprecated and will be removed in a future version.\n",
      "Instructions for updating:\n",
      "Use eager execution and: \n",
      "`tf.data.TFRecordDataset(path)`\n"
     ]
    },
    {
     "data": {
      "application/vnd.jupyter.widget-view+json": {
       "model_id": "86173ddaf1bf460487fe4f9a3aaa4fe9",
       "version_major": 2,
       "version_minor": 0
      },
      "text/plain": [
       "HBox(children=(IntProgress(value=1, bar_style='info', description='Reading...', max=1, style=ProgressStyle(des…"
      ]
     },
     "metadata": {},
     "output_type": "display_data"
    },
    {
     "data": {
      "application/vnd.jupyter.widget-view+json": {
       "model_id": "b7a618d3ebb749b384eb71d495c95295",
       "version_major": 2,
       "version_minor": 0
      },
      "text/plain": [
       "HBox(children=(IntProgress(value=0, description='Writing...', max=150, style=ProgressStyle(description_width='…"
      ]
     },
     "metadata": {},
     "output_type": "display_data"
    },
    {
     "name": "stderr",
     "output_type": "stream",
     "text": [
      "WARNING:absl:Warning: Setting shuffle_files=True because split=TRAIN and shuffle_files=None. This behavior will be deprecated on 2019-08-06, at which point shuffle_files=False will be the default for all splits.\n"
     ]
    },
    {
     "name": "stdout",
     "output_type": "stream",
     "text": [
      "\u001b[1mDataset iris downloaded and prepared to /home/longervision/tensorflow_datasets/iris/1.0.0. Subsequent calls will reuse this data.\u001b[0m\n",
      "WARNING:tensorflow:Entity <bound method TopLevelFeature.decode_example of FeaturesDict({\n",
      "    'features': Tensor(shape=(4,), dtype=tf.float32),\n",
      "    'label': ClassLabel(shape=(), dtype=tf.int64, num_classes=3),\n",
      "})> could not be transformed and will be executed as-is. Please report this to the AutoGraph team. When filing the bug, set the verbosity to 10 (on Linux, `export AUTOGRAPH_VERBOSITY=10`) and attach the full output. Cause: Bad argument number for Name: 3, expecting 4\n"
     ]
    },
    {
     "name": "stderr",
     "output_type": "stream",
     "text": [
      "WARNING:tensorflow:Entity <bound method TopLevelFeature.decode_example of FeaturesDict({\n",
      "    'features': Tensor(shape=(4,), dtype=tf.float32),\n",
      "    'label': ClassLabel(shape=(), dtype=tf.int64, num_classes=3),\n",
      "})> could not be transformed and will be executed as-is. Please report this to the AutoGraph team. When filing the bug, set the verbosity to 10 (on Linux, `export AUTOGRAPH_VERBOSITY=10`) and attach the full output. Cause: Bad argument number for Name: 3, expecting 4\n"
     ]
    },
    {
     "name": "stdout",
     "output_type": "stream",
     "text": [
      "WARNING: Entity <bound method TopLevelFeature.decode_example of FeaturesDict({\n",
      "    'features': Tensor(shape=(4,), dtype=tf.float32),\n",
      "    'label': ClassLabel(shape=(), dtype=tf.int64, num_classes=3),\n",
      "})> could not be transformed and will be executed as-is. Please report this to the AutoGraph team. When filing the bug, set the verbosity to 10 (on Linux, `export AUTOGRAPH_VERBOSITY=10`) and attach the full output. Cause: Bad argument number for Name: 3, expecting 4\n"
     ]
    }
   ],
   "source": [
    "iris = tfds.load(name=\"iris\", split=None)\n"
   ]
  },
  {
   "cell_type": "code",
   "execution_count": null,
   "metadata": {},
   "outputs": [],
   "source": []
  }
 ],
 "metadata": {
  "jupytext": {
   "cell_metadata_filter": "-all",
   "notebook_metadata_filter": "-all"
  },
  "kernelspec": {
   "display_name": "Python 3",
   "language": "python",
   "name": "python3"
  },
  "language_info": {
   "codemirror_mode": {
    "name": "ipython",
    "version": 3
   },
   "file_extension": ".py",
   "mimetype": "text/x-python",
   "name": "python",
   "nbconvert_exporter": "python",
   "pygments_lexer": "ipython3",
   "version": "3.7.3"
  }
 },
 "nbformat": 4,
 "nbformat_minor": 2
}
